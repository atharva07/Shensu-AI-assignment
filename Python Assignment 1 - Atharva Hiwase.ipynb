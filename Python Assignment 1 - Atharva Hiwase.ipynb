{
 "cells": [
  {
   "cell_type": "markdown",
   "id": "93b13e9b",
   "metadata": {},
   "source": [
    "# Python Task 1 - Data Analyst Assignment\n",
    "\n",
    "#### Name - Atharva Hiwase\n",
    "#### Email - atharva.hiwase07@gmail.com"
   ]
  },
  {
   "cell_type": "code",
   "execution_count": 95,
   "id": "d3ee2fc3",
   "metadata": {},
   "outputs": [],
   "source": [
    "# Importing Libraries\n",
    "\n",
    "import numpy as np\n",
    "import pandas as pd\n",
    "import matplotlib.pyplot as plt\n",
    "%matplotlib inline\n",
    "import warnings\n",
    "warnings.filterwarnings('ignore')"
   ]
  },
  {
   "cell_type": "code",
   "execution_count": 96,
   "id": "44812c97",
   "metadata": {},
   "outputs": [],
   "source": [
    "data = pd.read_csv('tradelog.csv',encoding='utf-8', encoding_errors='ignore')"
   ]
  },
  {
   "cell_type": "code",
   "execution_count": 97,
   "id": "35e87d91",
   "metadata": {},
   "outputs": [
    {
     "data": {
      "text/html": [
       "<div>\n",
       "<style scoped>\n",
       "    .dataframe tbody tr th:only-of-type {\n",
       "        vertical-align: middle;\n",
       "    }\n",
       "\n",
       "    .dataframe tbody tr th {\n",
       "        vertical-align: top;\n",
       "    }\n",
       "\n",
       "    .dataframe thead th {\n",
       "        text-align: right;\n",
       "    }\n",
       "</style>\n",
       "<table border=\"1\" class=\"dataframe\">\n",
       "  <thead>\n",
       "    <tr style=\"text-align: right;\">\n",
       "      <th></th>\n",
       "      <th>Unnamed: 0</th>\n",
       "      <th>Ticker</th>\n",
       "      <th>Entry Time</th>\n",
       "      <th>Entry Price</th>\n",
       "      <th>Exit Time</th>\n",
       "      <th>Exit Price</th>\n",
       "    </tr>\n",
       "  </thead>\n",
       "  <tbody>\n",
       "    <tr>\n",
       "      <th>0</th>\n",
       "      <td>1</td>\n",
       "      <td>BANKNIFTY09JUL2022800PE</td>\n",
       "      <td>08-07-2020 09:29</td>\n",
       "      <td>163.50</td>\n",
       "      <td>08-07-2020 13:15</td>\n",
       "      <td>301.00</td>\n",
       "    </tr>\n",
       "    <tr>\n",
       "      <th>1</th>\n",
       "      <td>2</td>\n",
       "      <td>BANKNIFTY09JUL2022700CE</td>\n",
       "      <td>09-07-2020 09:29</td>\n",
       "      <td>162.50</td>\n",
       "      <td>09-07-2020 10:34</td>\n",
       "      <td>166.75</td>\n",
       "    </tr>\n",
       "    <tr>\n",
       "      <th>2</th>\n",
       "      <td>3</td>\n",
       "      <td>BANKNIFTY09JUL2022700PE</td>\n",
       "      <td>09-07-2020 09:29</td>\n",
       "      <td>110.55</td>\n",
       "      <td>09-07-2020 10:34</td>\n",
       "      <td>147.00</td>\n",
       "    </tr>\n",
       "    <tr>\n",
       "      <th>3</th>\n",
       "      <td>4</td>\n",
       "      <td>BANKNIFTY16JUL2022700CE</td>\n",
       "      <td>10-07-2020 09:29</td>\n",
       "      <td>295.10</td>\n",
       "      <td>10-07-2020 15:24</td>\n",
       "      <td>437.55</td>\n",
       "    </tr>\n",
       "    <tr>\n",
       "      <th>4</th>\n",
       "      <td>5</td>\n",
       "      <td>BANKNIFTY16JUL2022700PE</td>\n",
       "      <td>10-07-2020 09:29</td>\n",
       "      <td>555.20</td>\n",
       "      <td>10-07-2020 15:24</td>\n",
       "      <td>403.15</td>\n",
       "    </tr>\n",
       "    <tr>\n",
       "      <th>5</th>\n",
       "      <td>6</td>\n",
       "      <td>BANKNIFTY16JUL2022600CE</td>\n",
       "      <td>13-07-2020 09:29</td>\n",
       "      <td>229.35</td>\n",
       "      <td>13-07-2020 11:11</td>\n",
       "      <td>370.55</td>\n",
       "    </tr>\n",
       "    <tr>\n",
       "      <th>6</th>\n",
       "      <td>7</td>\n",
       "      <td>BANKNIFTY16JUL2022600PE</td>\n",
       "      <td>13-07-2020 09:29</td>\n",
       "      <td>590.85</td>\n",
       "      <td>13-07-2020 11:11</td>\n",
       "      <td>356.50</td>\n",
       "    </tr>\n",
       "    <tr>\n",
       "      <th>7</th>\n",
       "      <td>8</td>\n",
       "      <td>BANKNIFTY16JUL2021800CE</td>\n",
       "      <td>14-07-2020 09:29</td>\n",
       "      <td>224.35</td>\n",
       "      <td>14-07-2020 10:56</td>\n",
       "      <td>314.65</td>\n",
       "    </tr>\n",
       "    <tr>\n",
       "      <th>8</th>\n",
       "      <td>9</td>\n",
       "      <td>BANKNIFTY16JUL2021800PE</td>\n",
       "      <td>14-07-2020 09:29</td>\n",
       "      <td>513.65</td>\n",
       "      <td>14-07-2020 10:56</td>\n",
       "      <td>328.55</td>\n",
       "    </tr>\n",
       "    <tr>\n",
       "      <th>9</th>\n",
       "      <td>10</td>\n",
       "      <td>BANKNIFTY16JUL2021600CE</td>\n",
       "      <td>15-07-2020 09:29</td>\n",
       "      <td>329.25</td>\n",
       "      <td>15-07-2020 12:03</td>\n",
       "      <td>265.65</td>\n",
       "    </tr>\n",
       "  </tbody>\n",
       "</table>\n",
       "</div>"
      ],
      "text/plain": [
       "   Unnamed: 0                   Ticker        Entry Time  Entry Price  \\\n",
       "0           1  BANKNIFTY09JUL2022800PE  08-07-2020 09:29       163.50   \n",
       "1           2  BANKNIFTY09JUL2022700CE  09-07-2020 09:29       162.50   \n",
       "2           3  BANKNIFTY09JUL2022700PE  09-07-2020 09:29       110.55   \n",
       "3           4  BANKNIFTY16JUL2022700CE  10-07-2020 09:29       295.10   \n",
       "4           5  BANKNIFTY16JUL2022700PE  10-07-2020 09:29       555.20   \n",
       "5           6  BANKNIFTY16JUL2022600CE  13-07-2020 09:29       229.35   \n",
       "6           7  BANKNIFTY16JUL2022600PE  13-07-2020 09:29       590.85   \n",
       "7           8  BANKNIFTY16JUL2021800CE  14-07-2020 09:29       224.35   \n",
       "8           9  BANKNIFTY16JUL2021800PE  14-07-2020 09:29       513.65   \n",
       "9          10  BANKNIFTY16JUL2021600CE  15-07-2020 09:29       329.25   \n",
       "\n",
       "          Exit Time  Exit Price  \n",
       "0  08-07-2020 13:15      301.00  \n",
       "1  09-07-2020 10:34      166.75  \n",
       "2  09-07-2020 10:34      147.00  \n",
       "3  10-07-2020 15:24      437.55  \n",
       "4  10-07-2020 15:24      403.15  \n",
       "5  13-07-2020 11:11      370.55  \n",
       "6  13-07-2020 11:11      356.50  \n",
       "7  14-07-2020 10:56      314.65  \n",
       "8  14-07-2020 10:56      328.55  \n",
       "9  15-07-2020 12:03      265.65  "
      ]
     },
     "execution_count": 97,
     "metadata": {},
     "output_type": "execute_result"
    }
   ],
   "source": [
    "data.head(10)"
   ]
  },
  {
   "cell_type": "code",
   "execution_count": 98,
   "id": "fad5fdc2",
   "metadata": {},
   "outputs": [],
   "source": [
    "# dropping the first column of the data 'Unnamed: 0'\n",
    "\n",
    "data = data.drop(['Unnamed: 0'], axis=1)"
   ]
  },
  {
   "cell_type": "code",
   "execution_count": 99,
   "id": "d49753fe",
   "metadata": {},
   "outputs": [
    {
     "name": "stdout",
     "output_type": "stream",
     "text": [
      "<class 'pandas.core.frame.DataFrame'>\n",
      "RangeIndex: 249 entries, 0 to 248\n",
      "Data columns (total 5 columns):\n",
      " #   Column       Non-Null Count  Dtype  \n",
      "---  ------       --------------  -----  \n",
      " 0   Ticker       249 non-null    object \n",
      " 1   Entry Time   249 non-null    object \n",
      " 2   Entry Price  249 non-null    float64\n",
      " 3   Exit Time    249 non-null    object \n",
      " 4   Exit Price   249 non-null    float64\n",
      "dtypes: float64(2), object(3)\n",
      "memory usage: 9.9+ KB\n"
     ]
    }
   ],
   "source": [
    "data.info()"
   ]
  },
  {
   "cell_type": "markdown",
   "id": "9291ea32",
   "metadata": {},
   "source": [
    "### Question 1. Total Trades ?"
   ]
  },
  {
   "cell_type": "code",
   "execution_count": 100,
   "id": "1be9e7e7",
   "metadata": {},
   "outputs": [
    {
     "name": "stdout",
     "output_type": "stream",
     "text": [
      "Total trades are: 249\n"
     ]
    }
   ],
   "source": [
    "total_trades = len(data)\n",
    "print('Total trades are: {}'.format(total_trades))"
   ]
  },
  {
   "cell_type": "markdown",
   "id": "6f9189a1",
   "metadata": {},
   "source": [
    "### Question 2: Profitable Trades"
   ]
  },
  {
   "cell_type": "code",
   "execution_count": 101,
   "id": "19821d2e",
   "metadata": {},
   "outputs": [
    {
     "name": "stdout",
     "output_type": "stream",
     "text": [
      "Total profitable trades are: 153\n"
     ]
    }
   ],
   "source": [
    "# For generating profitable trades, first we will make a calculated column where we will print the profit of the trades.\n",
    "# Profit = Exit Price - Entry Price\n",
    "# Then we will count the number of trades where the profit is greater than 0.\n",
    "\n",
    "data = data.assign(Profit = data['Exit Price'] - data['Entry Price'])\n",
    "rows_with_profit = data.loc[data['Profit'] > 0]\n",
    "print('Total profitable trades are: {}'.format(len(rows_with_profit)))"
   ]
  },
  {
   "cell_type": "markdown",
   "id": "18a102b1",
   "metadata": {},
   "source": [
    "### Question 3: Loss making trades\n",
    "### For loss making trades we will perform same process. Just that we will count those rows where the profit is less than 0."
   ]
  },
  {
   "cell_type": "code",
   "execution_count": 102,
   "id": "07f76798",
   "metadata": {},
   "outputs": [
    {
     "name": "stdout",
     "output_type": "stream",
     "text": [
      "Total loss making trades are: 96\n"
     ]
    }
   ],
   "source": [
    "data = data.assign(Profit = data['Exit Price'] - data['Entry Price'])\n",
    "rows_with_loss = data.loc[data['Profit'] < 0]\n",
    "print('Total loss making trades are: {}'.format(len(rows_with_loss)))"
   ]
  },
  {
   "cell_type": "markdown",
   "id": "880c124a",
   "metadata": {},
   "source": [
    "### Question 4: Win Rate: Ratio of Profitable trades to all the trades\n",
    "### win rate ratio = len(rows_with_profit) / total_trades"
   ]
  },
  {
   "cell_type": "code",
   "execution_count": 103,
   "id": "37462a68",
   "metadata": {},
   "outputs": [
    {
     "name": "stdout",
     "output_type": "stream",
     "text": [
      "Win Rate Ratio is: 61.45%\n"
     ]
    }
   ],
   "source": [
    "win_rate_ratio = len(rows_with_profit) / total_trades\n",
    "win_rate_ratio = win_rate_ratio * 100\n",
    "print('Win Rate Ratio is: {:.2f}%'.format(win_rate_ratio))"
   ]
  },
  {
   "cell_type": "markdown",
   "id": "c8055eae",
   "metadata": {},
   "source": [
    "### Question 5: Average Profit per trade."
   ]
  },
  {
   "cell_type": "code",
   "execution_count": 104,
   "id": "f74c56e1",
   "metadata": {},
   "outputs": [
    {
     "name": "stdout",
     "output_type": "stream",
     "text": [
      "11642.6\n",
      "Average Profit Per Trade is: 76.10\n"
     ]
    }
   ],
   "source": [
    "total_profit = 0\n",
    "total_profitable_trades = 0\n",
    "for pro in range(len(data['Profit'])):\n",
    "    if data['Profit'][pro] > 0:\n",
    "        total_profit += data['Profit'][pro]\n",
    "        total_profitable_trades += 1\n",
    "        \n",
    "print(total_profit)\n",
    "\n",
    "Average_profit_per_trade = total_profit / total_profitable_trades\n",
    "print('Average Profit Per Trade is: {:.2f}'.format(Average_profit_per_trade))"
   ]
  },
  {
   "cell_type": "markdown",
   "id": "6399c8d9",
   "metadata": {},
   "source": [
    "### Question 6: Average Loss per Trade"
   ]
  },
  {
   "cell_type": "code",
   "execution_count": 105,
   "id": "6f63ce42",
   "metadata": {},
   "outputs": [
    {
     "name": "stdout",
     "output_type": "stream",
     "text": [
      "10132.2\n",
      "Average loss Per Trade is: 105.54\n"
     ]
    }
   ],
   "source": [
    "total_loss = 0\n",
    "total_loss_trades = 0\n",
    "for pro in range(len(data['Profit'])):\n",
    "    if data['Profit'][pro] < 0:\n",
    "        total_loss += data['Profit'][pro]\n",
    "        total_loss_trades += 1\n",
    "        \n",
    "print(abs(total_loss))\n",
    "\n",
    "Average_loss_per_trade = total_loss / total_loss_trades\n",
    "print('Average loss Per Trade is: {:.2f}'.format(abs(Average_loss_per_trade)))"
   ]
  },
  {
   "cell_type": "markdown",
   "id": "ef1fb868",
   "metadata": {},
   "source": [
    "### Question 7: Risk Reward ratio: Risk Reward Ratio is the ratio of average profit to average loss."
   ]
  },
  {
   "cell_type": "code",
   "execution_count": 106,
   "id": "4765e90e",
   "metadata": {},
   "outputs": [
    {
     "name": "stdout",
     "output_type": "stream",
     "text": [
      "Risk reward ratio is: -0.72\n"
     ]
    }
   ],
   "source": [
    "risk_reward_ratio = Average_profit_per_trade / Average_loss_per_trade\n",
    "print('Risk reward ratio is: {:.2f}'.format(risk_reward_ratio))"
   ]
  },
  {
   "cell_type": "markdown",
   "id": "f4f08d7d",
   "metadata": {},
   "source": [
    "### Question 8: Expectancy : (Win Rate x Average Profit) - (Loss Rate x Average Loss), where Loss Rate = 1 - (Win Rate)"
   ]
  },
  {
   "cell_type": "code",
   "execution_count": 107,
   "id": "f17003ed",
   "metadata": {},
   "outputs": [
    {
     "name": "stdout",
     "output_type": "stream",
     "text": [
      "Expectancy is: 87.45\n"
     ]
    }
   ],
   "source": [
    "win_rate_ratio = len(rows_with_profit) / total_trades\n",
    "Loss_rate = 1 - win_rate_ratio\n",
    "Expectancy = (win_rate_ratio * Average_profit_per_trade) - (Loss_rate * Average_loss_per_trade)\n",
    "print(\"Expectancy is: {:.2f}\".format(Expectancy))"
   ]
  },
  {
   "cell_type": "markdown",
   "id": "aa5ac5ee",
   "metadata": {},
   "source": [
    "### Question 9: Average Rate of Return per trade"
   ]
  },
  {
   "cell_type": "code",
   "execution_count": 108,
   "id": "f2a75e52",
   "metadata": {},
   "outputs": [
    {
     "name": "stdout",
     "output_type": "stream",
     "text": [
      "Average Rate of Return: 16.85\n"
     ]
    }
   ],
   "source": [
    "data = data.assign(Rate_Of_Return = ((data['Exit Price'] - data['Entry Price'])/data['Entry Price'])*100)\n",
    "Average_rate_of_Return = data['Rate_Of_Return'].mean()\n",
    "print(\"Average Rate of Return: {:.2f}\".format(Average_rate_of_Return))"
   ]
  },
  {
   "cell_type": "code",
   "execution_count": 109,
   "id": "a3b75b78",
   "metadata": {},
   "outputs": [
    {
     "data": {
      "text/html": [
       "<div>\n",
       "<style scoped>\n",
       "    .dataframe tbody tr th:only-of-type {\n",
       "        vertical-align: middle;\n",
       "    }\n",
       "\n",
       "    .dataframe tbody tr th {\n",
       "        vertical-align: top;\n",
       "    }\n",
       "\n",
       "    .dataframe thead th {\n",
       "        text-align: right;\n",
       "    }\n",
       "</style>\n",
       "<table border=\"1\" class=\"dataframe\">\n",
       "  <thead>\n",
       "    <tr style=\"text-align: right;\">\n",
       "      <th></th>\n",
       "      <th>Ticker</th>\n",
       "      <th>Entry Time</th>\n",
       "      <th>Entry Price</th>\n",
       "      <th>Exit Time</th>\n",
       "      <th>Exit Price</th>\n",
       "      <th>Profit</th>\n",
       "      <th>Rate_Of_Return</th>\n",
       "    </tr>\n",
       "  </thead>\n",
       "  <tbody>\n",
       "    <tr>\n",
       "      <th>0</th>\n",
       "      <td>BANKNIFTY09JUL2022800PE</td>\n",
       "      <td>08-07-2020 09:29</td>\n",
       "      <td>163.50</td>\n",
       "      <td>08-07-2020 13:15</td>\n",
       "      <td>301.00</td>\n",
       "      <td>137.50</td>\n",
       "      <td>84.097859</td>\n",
       "    </tr>\n",
       "    <tr>\n",
       "      <th>1</th>\n",
       "      <td>BANKNIFTY09JUL2022700CE</td>\n",
       "      <td>09-07-2020 09:29</td>\n",
       "      <td>162.50</td>\n",
       "      <td>09-07-2020 10:34</td>\n",
       "      <td>166.75</td>\n",
       "      <td>4.25</td>\n",
       "      <td>2.615385</td>\n",
       "    </tr>\n",
       "    <tr>\n",
       "      <th>2</th>\n",
       "      <td>BANKNIFTY09JUL2022700PE</td>\n",
       "      <td>09-07-2020 09:29</td>\n",
       "      <td>110.55</td>\n",
       "      <td>09-07-2020 10:34</td>\n",
       "      <td>147.00</td>\n",
       "      <td>36.45</td>\n",
       "      <td>32.971506</td>\n",
       "    </tr>\n",
       "    <tr>\n",
       "      <th>3</th>\n",
       "      <td>BANKNIFTY16JUL2022700CE</td>\n",
       "      <td>10-07-2020 09:29</td>\n",
       "      <td>295.10</td>\n",
       "      <td>10-07-2020 15:24</td>\n",
       "      <td>437.55</td>\n",
       "      <td>142.45</td>\n",
       "      <td>48.271772</td>\n",
       "    </tr>\n",
       "    <tr>\n",
       "      <th>4</th>\n",
       "      <td>BANKNIFTY16JUL2022700PE</td>\n",
       "      <td>10-07-2020 09:29</td>\n",
       "      <td>555.20</td>\n",
       "      <td>10-07-2020 15:24</td>\n",
       "      <td>403.15</td>\n",
       "      <td>-152.05</td>\n",
       "      <td>-27.386527</td>\n",
       "    </tr>\n",
       "  </tbody>\n",
       "</table>\n",
       "</div>"
      ],
      "text/plain": [
       "                    Ticker        Entry Time  Entry Price         Exit Time  \\\n",
       "0  BANKNIFTY09JUL2022800PE  08-07-2020 09:29       163.50  08-07-2020 13:15   \n",
       "1  BANKNIFTY09JUL2022700CE  09-07-2020 09:29       162.50  09-07-2020 10:34   \n",
       "2  BANKNIFTY09JUL2022700PE  09-07-2020 09:29       110.55  09-07-2020 10:34   \n",
       "3  BANKNIFTY16JUL2022700CE  10-07-2020 09:29       295.10  10-07-2020 15:24   \n",
       "4  BANKNIFTY16JUL2022700PE  10-07-2020 09:29       555.20  10-07-2020 15:24   \n",
       "\n",
       "   Exit Price  Profit  Rate_Of_Return  \n",
       "0      301.00  137.50       84.097859  \n",
       "1      166.75    4.25        2.615385  \n",
       "2      147.00   36.45       32.971506  \n",
       "3      437.55  142.45       48.271772  \n",
       "4      403.15 -152.05      -27.386527  "
      ]
     },
     "execution_count": 109,
     "metadata": {},
     "output_type": "execute_result"
    }
   ],
   "source": [
    "data.head()"
   ]
  },
  {
   "cell_type": "markdown",
   "id": "c5a5a655",
   "metadata": {},
   "source": [
    "### Question 10. Sharpe Ratio: (Rate of Return - Risk-Free Rate) / (Standard deviation of the asset or portfolio)"
   ]
  },
  {
   "cell_type": "code",
   "execution_count": 147,
   "id": "3cc8201f",
   "metadata": {},
   "outputs": [],
   "source": [
    "import statistics\n",
    "\n",
    "portfolio = 6500\n",
    "Risk_free_rate = 0.05\n",
    "#Sharpe_ratio = (Average_rate_of_Return - Risk_free_rate)/statistics.stdev(portfolio)\n",
    "#print('The calmer ratio of portfolio is : {}'.format(Sharpe_ratio))"
   ]
  },
  {
   "cell_type": "markdown",
   "id": "9886634c",
   "metadata": {},
   "source": [
    "### Question 11. Max. Drawdown: \n",
    "### Formula: MDD = Through Value - Peak Value / Peak Value"
   ]
  },
  {
   "cell_type": "code",
   "execution_count": 110,
   "id": "a9b6743c",
   "metadata": {},
   "outputs": [
    {
     "name": "stdout",
     "output_type": "stream",
     "text": [
      "Maximum Drawdown is : -0.91\n"
     ]
    }
   ],
   "source": [
    "through_value = 6500\n",
    "peak_value = sum(data['Exit Price'])\n",
    "\n",
    "maximum_drawdown = (through_value - peak_value)/peak_value\n",
    "print('Maximum Drawdown is : {:.2f}'.format(maximum_drawdown))"
   ]
  },
  {
   "cell_type": "markdown",
   "id": "3c5565a6",
   "metadata": {},
   "source": [
    "### Question 12. Maximum Drawdown percentage"
   ]
  },
  {
   "cell_type": "code",
   "execution_count": 114,
   "id": "02346b13",
   "metadata": {},
   "outputs": [
    {
     "name": "stdout",
     "output_type": "stream",
     "text": [
      "Maximum Drawdown percentage is : -91.19\n"
     ]
    }
   ],
   "source": [
    "maximum_drawdown_percentage = maximum_drawdown*100\n",
    "print('Maximum Drawdown percentage is : {:.2f}'.format(maximum_drawdown_percentage))"
   ]
  },
  {
   "cell_type": "markdown",
   "id": "36cc4b70",
   "metadata": {},
   "source": [
    "### Question 13. CAGR "
   ]
  },
  {
   "cell_type": "code",
   "execution_count": 120,
   "id": "abfea506",
   "metadata": {},
   "outputs": [],
   "source": [
    "data['Entry Date'] = data['Exit Time'].str.split(\" \")"
   ]
  },
  {
   "cell_type": "code",
   "execution_count": 122,
   "id": "c37ca754",
   "metadata": {},
   "outputs": [],
   "source": [
    "data['Entry Date'] = data['Entry Date'][0][0]"
   ]
  },
  {
   "cell_type": "code",
   "execution_count": 123,
   "id": "298dc7ef",
   "metadata": {},
   "outputs": [
    {
     "data": {
      "text/html": [
       "<div>\n",
       "<style scoped>\n",
       "    .dataframe tbody tr th:only-of-type {\n",
       "        vertical-align: middle;\n",
       "    }\n",
       "\n",
       "    .dataframe tbody tr th {\n",
       "        vertical-align: top;\n",
       "    }\n",
       "\n",
       "    .dataframe thead th {\n",
       "        text-align: right;\n",
       "    }\n",
       "</style>\n",
       "<table border=\"1\" class=\"dataframe\">\n",
       "  <thead>\n",
       "    <tr style=\"text-align: right;\">\n",
       "      <th></th>\n",
       "      <th>Ticker</th>\n",
       "      <th>Entry Time</th>\n",
       "      <th>Entry Price</th>\n",
       "      <th>Exit Time</th>\n",
       "      <th>Exit Price</th>\n",
       "      <th>Profit</th>\n",
       "      <th>Rate_Of_Return</th>\n",
       "      <th>Entry Date</th>\n",
       "    </tr>\n",
       "  </thead>\n",
       "  <tbody>\n",
       "    <tr>\n",
       "      <th>0</th>\n",
       "      <td>BANKNIFTY09JUL2022800PE</td>\n",
       "      <td>08-07-2020 09:29</td>\n",
       "      <td>163.50</td>\n",
       "      <td>08-07-2020 13:15</td>\n",
       "      <td>301.00</td>\n",
       "      <td>137.50</td>\n",
       "      <td>84.097859</td>\n",
       "      <td>08-07-2020</td>\n",
       "    </tr>\n",
       "    <tr>\n",
       "      <th>1</th>\n",
       "      <td>BANKNIFTY09JUL2022700CE</td>\n",
       "      <td>09-07-2020 09:29</td>\n",
       "      <td>162.50</td>\n",
       "      <td>09-07-2020 10:34</td>\n",
       "      <td>166.75</td>\n",
       "      <td>4.25</td>\n",
       "      <td>2.615385</td>\n",
       "      <td>08-07-2020</td>\n",
       "    </tr>\n",
       "    <tr>\n",
       "      <th>2</th>\n",
       "      <td>BANKNIFTY09JUL2022700PE</td>\n",
       "      <td>09-07-2020 09:29</td>\n",
       "      <td>110.55</td>\n",
       "      <td>09-07-2020 10:34</td>\n",
       "      <td>147.00</td>\n",
       "      <td>36.45</td>\n",
       "      <td>32.971506</td>\n",
       "      <td>08-07-2020</td>\n",
       "    </tr>\n",
       "    <tr>\n",
       "      <th>3</th>\n",
       "      <td>BANKNIFTY16JUL2022700CE</td>\n",
       "      <td>10-07-2020 09:29</td>\n",
       "      <td>295.10</td>\n",
       "      <td>10-07-2020 15:24</td>\n",
       "      <td>437.55</td>\n",
       "      <td>142.45</td>\n",
       "      <td>48.271772</td>\n",
       "      <td>08-07-2020</td>\n",
       "    </tr>\n",
       "    <tr>\n",
       "      <th>4</th>\n",
       "      <td>BANKNIFTY16JUL2022700PE</td>\n",
       "      <td>10-07-2020 09:29</td>\n",
       "      <td>555.20</td>\n",
       "      <td>10-07-2020 15:24</td>\n",
       "      <td>403.15</td>\n",
       "      <td>-152.05</td>\n",
       "      <td>-27.386527</td>\n",
       "      <td>08-07-2020</td>\n",
       "    </tr>\n",
       "  </tbody>\n",
       "</table>\n",
       "</div>"
      ],
      "text/plain": [
       "                    Ticker        Entry Time  Entry Price         Exit Time  \\\n",
       "0  BANKNIFTY09JUL2022800PE  08-07-2020 09:29       163.50  08-07-2020 13:15   \n",
       "1  BANKNIFTY09JUL2022700CE  09-07-2020 09:29       162.50  09-07-2020 10:34   \n",
       "2  BANKNIFTY09JUL2022700PE  09-07-2020 09:29       110.55  09-07-2020 10:34   \n",
       "3  BANKNIFTY16JUL2022700CE  10-07-2020 09:29       295.10  10-07-2020 15:24   \n",
       "4  BANKNIFTY16JUL2022700PE  10-07-2020 09:29       555.20  10-07-2020 15:24   \n",
       "\n",
       "   Exit Price  Profit  Rate_Of_Return  Entry Date  \n",
       "0      301.00  137.50       84.097859  08-07-2020  \n",
       "1      166.75    4.25        2.615385  08-07-2020  \n",
       "2      147.00   36.45       32.971506  08-07-2020  \n",
       "3      437.55  142.45       48.271772  08-07-2020  \n",
       "4      403.15 -152.05      -27.386527  08-07-2020  "
      ]
     },
     "execution_count": 123,
     "metadata": {},
     "output_type": "execute_result"
    }
   ],
   "source": [
    "data.head()"
   ]
  },
  {
   "cell_type": "code",
   "execution_count": 125,
   "id": "e0123a2e",
   "metadata": {},
   "outputs": [
    {
     "name": "stdout",
     "output_type": "stream",
     "text": [
      "<class 'pandas.core.frame.DataFrame'>\n",
      "RangeIndex: 249 entries, 0 to 248\n",
      "Data columns (total 8 columns):\n",
      " #   Column          Non-Null Count  Dtype  \n",
      "---  ------          --------------  -----  \n",
      " 0   Ticker          249 non-null    object \n",
      " 1   Entry Time      249 non-null    object \n",
      " 2   Entry Price     249 non-null    float64\n",
      " 3   Exit Time       249 non-null    object \n",
      " 4   Exit Price      249 non-null    float64\n",
      " 5   Profit          249 non-null    float64\n",
      " 6   Rate_Of_Return  249 non-null    float64\n",
      " 7   Entry Date      249 non-null    object \n",
      "dtypes: float64(4), object(4)\n",
      "memory usage: 15.7+ KB\n"
     ]
    }
   ],
   "source": [
    "data.info()"
   ]
  },
  {
   "cell_type": "code",
   "execution_count": 126,
   "id": "1f466cba",
   "metadata": {},
   "outputs": [],
   "source": [
    "data[\"Entry Date\"] = data['Entry Date'].apply(pd.to_datetime)"
   ]
  },
  {
   "cell_type": "code",
   "execution_count": 127,
   "id": "0f6a2e90",
   "metadata": {},
   "outputs": [
    {
     "name": "stdout",
     "output_type": "stream",
     "text": [
      "<class 'pandas.core.frame.DataFrame'>\n",
      "RangeIndex: 249 entries, 0 to 248\n",
      "Data columns (total 8 columns):\n",
      " #   Column          Non-Null Count  Dtype         \n",
      "---  ------          --------------  -----         \n",
      " 0   Ticker          249 non-null    object        \n",
      " 1   Entry Time      249 non-null    object        \n",
      " 2   Entry Price     249 non-null    float64       \n",
      " 3   Exit Time       249 non-null    object        \n",
      " 4   Exit Price      249 non-null    float64       \n",
      " 5   Profit          249 non-null    float64       \n",
      " 6   Rate_Of_Return  249 non-null    float64       \n",
      " 7   Entry Date      249 non-null    datetime64[ns]\n",
      "dtypes: datetime64[ns](1), float64(4), object(3)\n",
      "memory usage: 15.7+ KB\n"
     ]
    }
   ],
   "source": [
    "data.info()"
   ]
  },
  {
   "cell_type": "code",
   "execution_count": 128,
   "id": "ec07bb04",
   "metadata": {},
   "outputs": [],
   "source": [
    "data['Year'] = data['Entry Date'].dt.strftime('%Y')"
   ]
  },
  {
   "cell_type": "code",
   "execution_count": 129,
   "id": "ee529682",
   "metadata": {},
   "outputs": [
    {
     "data": {
      "text/html": [
       "<div>\n",
       "<style scoped>\n",
       "    .dataframe tbody tr th:only-of-type {\n",
       "        vertical-align: middle;\n",
       "    }\n",
       "\n",
       "    .dataframe tbody tr th {\n",
       "        vertical-align: top;\n",
       "    }\n",
       "\n",
       "    .dataframe thead th {\n",
       "        text-align: right;\n",
       "    }\n",
       "</style>\n",
       "<table border=\"1\" class=\"dataframe\">\n",
       "  <thead>\n",
       "    <tr style=\"text-align: right;\">\n",
       "      <th></th>\n",
       "      <th>Ticker</th>\n",
       "      <th>Entry Time</th>\n",
       "      <th>Entry Price</th>\n",
       "      <th>Exit Time</th>\n",
       "      <th>Exit Price</th>\n",
       "      <th>Profit</th>\n",
       "      <th>Rate_Of_Return</th>\n",
       "      <th>Entry Date</th>\n",
       "      <th>Year</th>\n",
       "    </tr>\n",
       "  </thead>\n",
       "  <tbody>\n",
       "    <tr>\n",
       "      <th>0</th>\n",
       "      <td>BANKNIFTY09JUL2022800PE</td>\n",
       "      <td>08-07-2020 09:29</td>\n",
       "      <td>163.50</td>\n",
       "      <td>08-07-2020 13:15</td>\n",
       "      <td>301.00</td>\n",
       "      <td>137.50</td>\n",
       "      <td>84.097859</td>\n",
       "      <td>2020-08-07</td>\n",
       "      <td>2020</td>\n",
       "    </tr>\n",
       "    <tr>\n",
       "      <th>1</th>\n",
       "      <td>BANKNIFTY09JUL2022700CE</td>\n",
       "      <td>09-07-2020 09:29</td>\n",
       "      <td>162.50</td>\n",
       "      <td>09-07-2020 10:34</td>\n",
       "      <td>166.75</td>\n",
       "      <td>4.25</td>\n",
       "      <td>2.615385</td>\n",
       "      <td>2020-08-07</td>\n",
       "      <td>2020</td>\n",
       "    </tr>\n",
       "    <tr>\n",
       "      <th>2</th>\n",
       "      <td>BANKNIFTY09JUL2022700PE</td>\n",
       "      <td>09-07-2020 09:29</td>\n",
       "      <td>110.55</td>\n",
       "      <td>09-07-2020 10:34</td>\n",
       "      <td>147.00</td>\n",
       "      <td>36.45</td>\n",
       "      <td>32.971506</td>\n",
       "      <td>2020-08-07</td>\n",
       "      <td>2020</td>\n",
       "    </tr>\n",
       "    <tr>\n",
       "      <th>3</th>\n",
       "      <td>BANKNIFTY16JUL2022700CE</td>\n",
       "      <td>10-07-2020 09:29</td>\n",
       "      <td>295.10</td>\n",
       "      <td>10-07-2020 15:24</td>\n",
       "      <td>437.55</td>\n",
       "      <td>142.45</td>\n",
       "      <td>48.271772</td>\n",
       "      <td>2020-08-07</td>\n",
       "      <td>2020</td>\n",
       "    </tr>\n",
       "    <tr>\n",
       "      <th>4</th>\n",
       "      <td>BANKNIFTY16JUL2022700PE</td>\n",
       "      <td>10-07-2020 09:29</td>\n",
       "      <td>555.20</td>\n",
       "      <td>10-07-2020 15:24</td>\n",
       "      <td>403.15</td>\n",
       "      <td>-152.05</td>\n",
       "      <td>-27.386527</td>\n",
       "      <td>2020-08-07</td>\n",
       "      <td>2020</td>\n",
       "    </tr>\n",
       "  </tbody>\n",
       "</table>\n",
       "</div>"
      ],
      "text/plain": [
       "                    Ticker        Entry Time  Entry Price         Exit Time  \\\n",
       "0  BANKNIFTY09JUL2022800PE  08-07-2020 09:29       163.50  08-07-2020 13:15   \n",
       "1  BANKNIFTY09JUL2022700CE  09-07-2020 09:29       162.50  09-07-2020 10:34   \n",
       "2  BANKNIFTY09JUL2022700PE  09-07-2020 09:29       110.55  09-07-2020 10:34   \n",
       "3  BANKNIFTY16JUL2022700CE  10-07-2020 09:29       295.10  10-07-2020 15:24   \n",
       "4  BANKNIFTY16JUL2022700PE  10-07-2020 09:29       555.20  10-07-2020 15:24   \n",
       "\n",
       "   Exit Price  Profit  Rate_Of_Return Entry Date  Year  \n",
       "0      301.00  137.50       84.097859 2020-08-07  2020  \n",
       "1      166.75    4.25        2.615385 2020-08-07  2020  \n",
       "2      147.00   36.45       32.971506 2020-08-07  2020  \n",
       "3      437.55  142.45       48.271772 2020-08-07  2020  \n",
       "4      403.15 -152.05      -27.386527 2020-08-07  2020  "
      ]
     },
     "execution_count": 129,
     "metadata": {},
     "output_type": "execute_result"
    }
   ],
   "source": [
    "data.head()"
   ]
  },
  {
   "cell_type": "code",
   "execution_count": 135,
   "id": "c02f7020",
   "metadata": {},
   "outputs": [
    {
     "data": {
      "text/plain": [
       "array(['2020'], dtype=object)"
      ]
     },
     "execution_count": 135,
     "metadata": {},
     "output_type": "execute_result"
    }
   ],
   "source": [
    "data['Year'].unique()"
   ]
  },
  {
   "cell_type": "code",
   "execution_count": 137,
   "id": "cea5079c",
   "metadata": {},
   "outputs": [
    {
     "data": {
      "text/html": [
       "<div>\n",
       "<style scoped>\n",
       "    .dataframe tbody tr th:only-of-type {\n",
       "        vertical-align: middle;\n",
       "    }\n",
       "\n",
       "    .dataframe tbody tr th {\n",
       "        vertical-align: top;\n",
       "    }\n",
       "\n",
       "    .dataframe thead th {\n",
       "        text-align: right;\n",
       "    }\n",
       "</style>\n",
       "<table border=\"1\" class=\"dataframe\">\n",
       "  <thead>\n",
       "    <tr style=\"text-align: right;\">\n",
       "      <th></th>\n",
       "      <th>Ticker</th>\n",
       "      <th>Entry Time</th>\n",
       "      <th>Entry Price</th>\n",
       "      <th>Exit Time</th>\n",
       "      <th>Exit Price</th>\n",
       "      <th>Profit</th>\n",
       "      <th>Rate_Of_Return</th>\n",
       "      <th>Entry Date</th>\n",
       "      <th>Year</th>\n",
       "      <th>CAGR</th>\n",
       "    </tr>\n",
       "  </thead>\n",
       "  <tbody>\n",
       "    <tr>\n",
       "      <th>0</th>\n",
       "      <td>BANKNIFTY09JUL2022800PE</td>\n",
       "      <td>08-07-2020 09:29</td>\n",
       "      <td>163.50</td>\n",
       "      <td>08-07-2020 13:15</td>\n",
       "      <td>301.00</td>\n",
       "      <td>137.50</td>\n",
       "      <td>84.097859</td>\n",
       "      <td>2020-08-07</td>\n",
       "      <td>2020</td>\n",
       "      <td>0.840979</td>\n",
       "    </tr>\n",
       "    <tr>\n",
       "      <th>1</th>\n",
       "      <td>BANKNIFTY09JUL2022700CE</td>\n",
       "      <td>09-07-2020 09:29</td>\n",
       "      <td>162.50</td>\n",
       "      <td>09-07-2020 10:34</td>\n",
       "      <td>166.75</td>\n",
       "      <td>4.25</td>\n",
       "      <td>2.615385</td>\n",
       "      <td>2020-08-07</td>\n",
       "      <td>2020</td>\n",
       "      <td>0.026154</td>\n",
       "    </tr>\n",
       "    <tr>\n",
       "      <th>2</th>\n",
       "      <td>BANKNIFTY09JUL2022700PE</td>\n",
       "      <td>09-07-2020 09:29</td>\n",
       "      <td>110.55</td>\n",
       "      <td>09-07-2020 10:34</td>\n",
       "      <td>147.00</td>\n",
       "      <td>36.45</td>\n",
       "      <td>32.971506</td>\n",
       "      <td>2020-08-07</td>\n",
       "      <td>2020</td>\n",
       "      <td>0.329715</td>\n",
       "    </tr>\n",
       "    <tr>\n",
       "      <th>3</th>\n",
       "      <td>BANKNIFTY16JUL2022700CE</td>\n",
       "      <td>10-07-2020 09:29</td>\n",
       "      <td>295.10</td>\n",
       "      <td>10-07-2020 15:24</td>\n",
       "      <td>437.55</td>\n",
       "      <td>142.45</td>\n",
       "      <td>48.271772</td>\n",
       "      <td>2020-08-07</td>\n",
       "      <td>2020</td>\n",
       "      <td>0.482718</td>\n",
       "    </tr>\n",
       "    <tr>\n",
       "      <th>4</th>\n",
       "      <td>BANKNIFTY16JUL2022700PE</td>\n",
       "      <td>10-07-2020 09:29</td>\n",
       "      <td>555.20</td>\n",
       "      <td>10-07-2020 15:24</td>\n",
       "      <td>403.15</td>\n",
       "      <td>-152.05</td>\n",
       "      <td>-27.386527</td>\n",
       "      <td>2020-08-07</td>\n",
       "      <td>2020</td>\n",
       "      <td>-0.273865</td>\n",
       "    </tr>\n",
       "  </tbody>\n",
       "</table>\n",
       "</div>"
      ],
      "text/plain": [
       "                    Ticker        Entry Time  Entry Price         Exit Time  \\\n",
       "0  BANKNIFTY09JUL2022800PE  08-07-2020 09:29       163.50  08-07-2020 13:15   \n",
       "1  BANKNIFTY09JUL2022700CE  09-07-2020 09:29       162.50  09-07-2020 10:34   \n",
       "2  BANKNIFTY09JUL2022700PE  09-07-2020 09:29       110.55  09-07-2020 10:34   \n",
       "3  BANKNIFTY16JUL2022700CE  10-07-2020 09:29       295.10  10-07-2020 15:24   \n",
       "4  BANKNIFTY16JUL2022700PE  10-07-2020 09:29       555.20  10-07-2020 15:24   \n",
       "\n",
       "   Exit Price  Profit  Rate_Of_Return Entry Date  Year      CAGR  \n",
       "0      301.00  137.50       84.097859 2020-08-07  2020  0.840979  \n",
       "1      166.75    4.25        2.615385 2020-08-07  2020  0.026154  \n",
       "2      147.00   36.45       32.971506 2020-08-07  2020  0.329715  \n",
       "3      437.55  142.45       48.271772 2020-08-07  2020  0.482718  \n",
       "4      403.15 -152.05      -27.386527 2020-08-07  2020 -0.273865  "
      ]
     },
     "execution_count": 137,
     "metadata": {},
     "output_type": "execute_result"
    }
   ],
   "source": [
    "# As per the above query the number of years in this data is 1.\n",
    "no_of_periods = 1\n",
    "data = data.assign(CAGR = (((data['Exit Price']/data['Entry Price'])**(1/no_of_periods))-1))\n",
    "data.head()"
   ]
  },
  {
   "cell_type": "markdown",
   "id": "8c970d23",
   "metadata": {},
   "source": [
    "### Question 14: Calmer Ratio\n",
    "### Formula: Calmer Ratio = Average Annual Rate of Return / Maximum Drawdown"
   ]
  },
  {
   "cell_type": "code",
   "execution_count": 140,
   "id": "9a92072d",
   "metadata": {},
   "outputs": [
    {
     "name": "stdout",
     "output_type": "stream",
     "text": [
      "Calmer Ratio: -18.48\n"
     ]
    }
   ],
   "source": [
    "calmer_ratio = Average_rate_of_Return / maximum_drawdown\n",
    "print('Calmer Ratio: {:.2f}'.format(calmer_ratio))"
   ]
  },
  {
   "cell_type": "code",
   "execution_count": null,
   "id": "721fa8df",
   "metadata": {},
   "outputs": [],
   "source": []
  }
 ],
 "metadata": {
  "kernelspec": {
   "display_name": "Python 3 (ipykernel)",
   "language": "python",
   "name": "python3"
  },
  "language_info": {
   "codemirror_mode": {
    "name": "ipython",
    "version": 3
   },
   "file_extension": ".py",
   "mimetype": "text/x-python",
   "name": "python",
   "nbconvert_exporter": "python",
   "pygments_lexer": "ipython3",
   "version": "3.10.9"
  }
 },
 "nbformat": 4,
 "nbformat_minor": 5
}
